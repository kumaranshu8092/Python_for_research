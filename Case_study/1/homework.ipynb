{
 "cells": [
  {
   "cell_type": "code",
   "execution_count": 20,
   "metadata": {},
   "outputs": [
    {
     "name": "stdout",
     "output_type": "stream",
     "text": [
      "{0: ' ', 1: 'a', 2: 'b', 3: 'c', 4: 'd', 5: 'e', 6: 'f', 7: 'g', 8: 'h', 9: 'i', 10: 'j', 11: 'k', 12: 'l', 13: 'm', 14: 'n', 15: 'o', 16: 'p', 17: 'q', 18: 'r', 19: 's', 20: 't', 21: 'u', 22: 'v', 23: 'w', 24: 'x', 25: 'y', 26: 'z'}\n"
     ]
    }
   ],
   "source": [
    "# Exercise 1\n",
    "#-----------\n",
    "\n",
    "\"\"\"The sample code imports the string library has been imported. Create a string called alphabet consisting of the space character (' ') followed by (concatenated with) the lowercase letters. \n",
    "Note that we're only using the lowercase letters in this exercise.\"\"\"\n",
    "\n",
    "# Let's look at the lowercase letters.\n",
    "import string\n",
    "string.ascii_lowercase\n",
    "\n",
    "# We will consider the alphabet to be these letters, along with a space.\n",
    "alphabet =  \" \"+string.ascii_lowercase\n",
    "\n",
    "# create `letters` here!\n",
    "letters = {0:' ', 1:'a', 2:'b', 3:'c', 4:'d', 5:'e', 6:'f', 7:'g', 8:'h'\n",
    "           , 9:'i', 10:'j', 11:'k', 12:'l', 13:'m', 14:'n', 15:'o', 16:'p'\n",
    "           , 17:'q', 18:'r', 19:'s', 20:'t', 21:'u', 22:'v', 23:'w', 24:'x'\n",
    "           , 25:'y', 26:'z'}\n",
    "\n",
    "#Another way is:\n",
    "\n",
    "letters = {i:alphabet[i] for i in range(0,27)}\n",
    "print(letters)\n"
   ]
  },
  {
   "cell_type": "code",
   "execution_count": 7,
   "metadata": {},
   "outputs": [
    {
     "ename": "SyntaxError",
     "evalue": "invalid syntax (<ipython-input-7-99e73afb6db5>, line 9)",
     "output_type": "error",
     "traceback": [
      "\u001b[1;36m  File \u001b[1;32m\"<ipython-input-7-99e73afb6db5>\"\u001b[1;36m, line \u001b[1;32m9\u001b[0m\n\u001b[1;33m    letters(key\"n\")\u001b[0m\n\u001b[1;37m               ^\u001b[0m\n\u001b[1;31mSyntaxError\u001b[0m\u001b[1;31m:\u001b[0m invalid syntax\n"
     ]
    }
   ],
   "source": [
    "\"\"\"Exercise 2\n",
    "1/1 point (graded)\n",
    "In Exercise 2, we will define a dictionary that specifies the index of each character in alphabet.\n",
    "\n",
    "Note that alphabet is as defined in Exercise 1. Create a dictionary with keys consisting of the characters in alphabet and values consisting of the numbers from 0 to 26. Store this as positions.\n",
    "\n",
    "What is the value of the key n in the positions dictionary?\"\"\"\n",
    "Ans-14"
   ]
  },
  {
   "cell_type": "code",
   "execution_count": 10,
   "metadata": {},
   "outputs": [
    {
     "name": "stdout",
     "output_type": "stream",
     "text": [
      "{' ': 1, 'a': 2, 'b': 3, 'c': 4, 'd': 5, 'e': 6, 'f': 7, 'g': 8, 'h': 9, 'i': 10, 'j': 11, 'k': 12, 'l': 13, 'm': 14, 'n': 15, 'o': 16, 'p': 17, 'q': 18, 'r': 19, 's': 20, 't': 21, 'u': 22, 'v': 23, 'w': 24, 'x': 25, 'y': 26, 'z': 0}\n"
     ]
    }
   ],
   "source": [
    "# # Exercise 2\n",
    "# #-----------\n",
    "\n",
    "# #alphabet and letters are already defined. Create a dictionary encoding with \n",
    "# #keys being the characters in alphabet and values being numbers from 0-26, \n",
    "# #shifted by an integer encryption_key=3. For example, the key a should have \n",
    "# #value encryption_key, key b should have value encryption_key + 1, and so on. \n",
    "# #If any result of this addition is less than 0 or greater than 26, you can \n",
    "# #ensure the result remains within 0-26 using result % 27.\n",
    "\n",
    "\n",
    "# encryption_key = 1\n",
    "\n",
    "# # define `encoding` here!\n",
    "# encoding = {alphabet[i]:((i + encryption_key) % 27) for i in range(27)}\n",
    "\n",
    "# #OR\n",
    "\n",
    "# # alphabet_len = len(alphabet)\n",
    "# # encoding = {alphabet[i]:((i + encryption_key) % alphabet_len) for i in range(alphabet_len)}\n",
    "\n",
    "# print(encoding)\n"
   ]
  },
  {
   "cell_type": "code",
   "execution_count": 27,
   "metadata": {},
   "outputs": [
    {
     "name": "stdout",
     "output_type": "stream",
     "text": [
      "ijanzaobnfajtadbftbs\n"
     ]
    }
   ],
   "source": [
    "message = \"hi my name is caesar\"\n",
    "\n",
    "def caesar(message, key):\n",
    "    # return the encoded message as a single string!\n",
    "    alphabet_len = len(alphabet)\n",
    "    encoded_message = {alphabet[i]:((i + key) % alphabet_len) for i in range(alphabet_len)}\n",
    "    return ''.join([alphabet[encoded_message[letter]] for letter in message])\n",
    "    \n",
    "encoded_message = caesar(message, 1)\n",
    "\n",
    "print(encoded_message)"
   ]
  },
  {
   "cell_type": "code",
   "execution_count": 31,
   "metadata": {},
   "outputs": [
    {
     "name": "stdout",
     "output_type": "stream",
     "text": [
      "Message is hi my name is caesar\n",
      "Encoded message klcpacqdphclvcfdhvdu\n",
      "Decoded message hi my name is caesar\n"
     ]
    }
   ],
   "source": [
    "message = \"hi my name is caesar\"\n",
    "\n",
    "def caesar(message, key):\n",
    "    # return the encoded message as a single string!\n",
    "    alphabet_len = len(alphabet)\n",
    "    encoded_message = {alphabet[i]:((i + key) % alphabet_len) for i in range(alphabet_len)}\n",
    "    return ''.join([alphabet[encoded_message[letter]] for letter in message])\n",
    "    \n",
    "encoded_message = caesar(message, 3)\n",
    "decoded_message = caesar(encoded_message, -3)\n",
    "\n",
    "print(\"Message is \"+ message)\n",
    "print(\"Encoded message \"+encoded_message)\n",
    "print(\"Decoded message \"+decoded_message)"
   ]
  },
  {
   "cell_type": "code",
   "execution_count": null,
   "metadata": {},
   "outputs": [],
   "source": []
  }
 ],
 "metadata": {
  "kernelspec": {
   "display_name": "Python 3",
   "language": "python",
   "name": "python3"
  },
  "language_info": {
   "codemirror_mode": {
    "name": "ipython",
    "version": 3
   },
   "file_extension": ".py",
   "mimetype": "text/x-python",
   "name": "python",
   "nbconvert_exporter": "python",
   "pygments_lexer": "ipython3",
   "version": "3.8.5"
  }
 },
 "nbformat": 4,
 "nbformat_minor": 4
}

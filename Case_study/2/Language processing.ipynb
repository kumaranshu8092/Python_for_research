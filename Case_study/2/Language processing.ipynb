{
 "cells": [
  {
   "cell_type": "code",
   "execution_count": 19,
   "metadata": {},
   "outputs": [
    {
     "data": {
      "text/plain": [
       "6"
      ]
     },
     "execution_count": 19,
     "metadata": {},
     "output_type": "execute_result"
    }
   ],
   "source": [
    "text=\"This is my test text. we're keeping this text short to keep things manageable.\"\n",
    "\n",
    "def count_words(text):\n",
    "    \n",
    "    \"\"\" Count the number of times each word occurs in text (str). Return dictionary\n",
    "        where keys are unique words and values are word counts. \"\"\"\n",
    "    word_count={}\n",
    "    text=text.lower()\n",
    "    skip=[\".\",\",\",\":\",\";\",\"''\",'\"\"']\n",
    "    for ch in skip:\n",
    "        text=text.replace(ch,\"\")\n",
    "        \n",
    "    for word in text.split(\" \"):\n",
    "        #know word\n",
    "        if word in word_count:\n",
    "                word_count[word]+=1\n",
    "        #unknown word\n",
    "        else:\n",
    "            word_count[word]=1\n",
    "    return word_count\n",
    "\n",
    "# count_words(text)\n",
    "########### easy method################\n",
    "\n",
    "from collections import Counter\n",
    "\n",
    "def count_words_fast(text):\n",
    "    \n",
    "    \"\"\" Count the number of times each word occurs in text (str). Return dictionary\n",
    "        where keys are unique words and values are word counts. \"\"\"\n",
    "    word_count={}\n",
    "    text=text.lower()\n",
    "    skip=[\".\",\",\",\":\",\";\",\"''\",'\"\"']\n",
    "    for ch in skip:\n",
    "        text=text.replace(ch,\"\")\n",
    "        \n",
    "    word_count=Counter(text.split(\" \"))\n",
    "    return word_count\n",
    "count_words_fast(text)\n",
    "len(count_words(\"This comprehension check is to check for comprehension\"))"
   ]
  },
  {
   "cell_type": "code",
   "execution_count": 20,
   "metadata": {},
   "outputs": [
    {
     "data": {
      "text/plain": [
       "False"
      ]
     },
     "execution_count": 20,
     "metadata": {},
     "output_type": "execute_result"
    }
   ],
   "source": [
    "count_words(text) is count_words_fast(text)"
   ]
  },
  {
   "cell_type": "code",
   "execution_count": 21,
   "metadata": {},
   "outputs": [],
   "source": [
    "def read_book(title_path):\n",
    "    \"\"\"\n",
    "    Read a book and return it as a string.\n",
    "    \"\"\"\n",
    "    with open(title_path,\"r\",encoding=\"utf=8\") as current_file:\n",
    "        text=current_file.read()\n",
    "        text=text.replace(\"\\n\",\"\").replace(\"\\r\",\"\")\n",
    "        return text"
   ]
  },
  {
   "cell_type": "code",
   "execution_count": 22,
   "metadata": {},
   "outputs": [],
   "source": [
    "text=read_book(\".\\\\Books_EngFr\\\\English\\\\shakespeare\\\\Romeo and Juliet.txt\")"
   ]
  },
  {
   "cell_type": "code",
   "execution_count": 23,
   "metadata": {},
   "outputs": [
    {
     "data": {
      "text/plain": [
       "169275"
      ]
     },
     "execution_count": 23,
     "metadata": {},
     "output_type": "execute_result"
    }
   ],
   "source": [
    "len(text)"
   ]
  },
  {
   "cell_type": "code",
   "execution_count": 24,
   "metadata": {},
   "outputs": [],
   "source": [
    "ind=text.find(\"What's in a name?\")"
   ]
  },
  {
   "cell_type": "code",
   "execution_count": 25,
   "metadata": {},
   "outputs": [
    {
     "data": {
      "text/plain": [
       "42757"
      ]
     },
     "execution_count": 25,
     "metadata": {},
     "output_type": "execute_result"
    }
   ],
   "source": [
    "ind"
   ]
  },
  {
   "cell_type": "code",
   "execution_count": 26,
   "metadata": {},
   "outputs": [],
   "source": [
    "sample_text=text[ind:ind+100]"
   ]
  },
  {
   "cell_type": "code",
   "execution_count": 27,
   "metadata": {},
   "outputs": [
    {
     "data": {
      "text/plain": [
       "\"What's in a name? That which we call a rose    By any other name would smell as sweet.    So Romeo w\""
      ]
     },
     "execution_count": 27,
     "metadata": {},
     "output_type": "execute_result"
    }
   ],
   "source": [
    "sample_text\n"
   ]
  },
  {
   "cell_type": "code",
   "execution_count": 31,
   "metadata": {},
   "outputs": [],
   "source": [
    "def word_stats(word_counts):\n",
    "    \"\"\"Returns number of unique word and word frequencies.\"\"\"\n",
    "    num_unique=len(word_counts)\n",
    "    count=word_counts.values()\n",
    "    return(num_unique,count)"
   ]
  },
  {
   "cell_type": "code",
   "execution_count": 32,
   "metadata": {},
   "outputs": [],
   "source": [
    "text=read_book(\".\\\\Books_EngFr\\\\English\\\\shakespeare\\\\Romeo and Juliet.txt\")\n",
    "word_counts=count_words(text)\n",
    "(num_unique,counts)=word_stats(word_counts)\n",
    "\n"
   ]
  },
  {
   "cell_type": "code",
   "execution_count": 54,
   "metadata": {},
   "outputs": [],
   "source": [
    "import os\n",
    "book_dir=\".\\Books\"\n"
   ]
  },
  {
   "cell_type": "code",
   "execution_count": 73,
   "metadata": {},
   "outputs": [
    {
     "name": "stdout",
     "output_type": "stream",
     "text": [
      ".\\Books\\English\\shakespeare\\A Midsummer Night's Dream.txt\n",
      ".\\Books\\English\\shakespeare\\Hamlet.txt\n",
      ".\\Books\\English\\shakespeare\\Macbeth.txt\n",
      ".\\Books\\English\\shakespeare\\Othello.txt\n",
      ".\\Books\\English\\shakespeare\\Richard III.txt\n",
      ".\\Books\\English\\shakespeare\\Romeo and Juliet.txt\n",
      ".\\Books\\English\\shakespeare\\The Merchant of Venice.txt\n",
      ".\\Books\\French\\chevalier\\L'enfer et le paradis de l'autre monde.txt\n",
      ".\\Books\\French\\chevalier\\L'åle de sable.txt\n",
      ".\\Books\\French\\chevalier\\La capitaine.txt\n",
      ".\\Books\\French\\chevalier\\La fille des indiens rouges.txt\n",
      ".\\Books\\French\\chevalier\\La fille du pirate.txt\n",
      ".\\Books\\French\\chevalier\\Le chasseur noir.txt\n",
      ".\\Books\\French\\chevalier\\Les derniers Iroquois.txt\n",
      ".\\Books\\French\\de Maupassant\\Boule de Suif.txt\n",
      ".\\Books\\French\\de Maupassant\\Claire de Lune.txt\n",
      ".\\Books\\French\\de Maupassant\\Contes de la Becasse.txt\n",
      ".\\Books\\French\\de Maupassant\\L'inutile beautÇ.txt\n",
      ".\\Books\\French\\de Maupassant\\La Main Gauche.txt\n",
      ".\\Books\\French\\de Maupassant\\La Maison Tellier.txt\n",
      ".\\Books\\French\\de Maupassant\\La petite roque.txt\n",
      ".\\Books\\French\\de Maupassant\\Le Horla.txt\n",
      ".\\Books\\French\\de Maupassant\\Œuvres complètes de Guy de Maupassant.txt\n",
      ".\\Books\\French\\diderot\\Ceci n'est pas un conte.txt\n",
      ".\\Books\\French\\diderot\\Entretien d'un päre avec ses enfants.txt\n",
      ".\\Books\\French\\diderot\\L'oiseau blanc.txt\n",
      ".\\Books\\French\\diderot\\Les deux amis de Bourbonne.txt\n",
      ".\\Books\\French\\diderot\\Regrets sur ma vieille robe de chambre.txt\n",
      ".\\Books\\French\\sand\\cora.txt\n",
      ".\\Books\\French\\sand\\Jacques le fataliste et son maåtre.txt\n",
      ".\\Books\\French\\sand\\L' Orco.txt\n",
      ".\\Books\\French\\sand\\La Coupe; Lupo Liverani; Le Toast; Garnier; Le Contrebandier; La Ràverie Ö Paris.txt\n",
      ".\\Books\\French\\sand\\La Marquise.txt\n",
      ".\\Books\\French\\sand\\Le Piccinino.txt\n",
      ".\\Books\\French\\sand\\Le poâme de Myrza.txt\n",
      ".\\Books\\French\\sand\\Mattea.txt\n",
      ".\\Books\\French\\sand\\Metella.txt\n",
      ".\\Books\\French\\sand\\Oeuvres illustrÇes de George Sand.txt\n",
      ".\\Books\\French\\sand\\Pauline.txt\n",
      ".\\Books\\German\\lessing\\der freigeist.txt\n",
      ".\\Books\\German\\lessing\\der junge gelehrte.txt\n",
      ".\\Books\\German\\lessing\\die juden.txt\n",
      ".\\Books\\German\\lessing\\emilia galotti.txt\n",
      ".\\Books\\German\\lessing\\hamburgische dramaturgie.txt\n",
      ".\\Books\\German\\lessing\\minna von barnhelm.txt\n",
      ".\\Books\\German\\lessing\\miss sara sampson.txt\n",
      ".\\Books\\German\\lessing\\philotas.txt\n",
      ".\\Books\\German\\raimund\\Das MÑdchen aus der Feenwelt.txt\n",
      ".\\Books\\German\\raimund\\Der Alpenkînig und der Menschenfeind.txt\n",
      ".\\Books\\German\\raimund\\Der Barometermacher auf der Zauberinsel.txt\n",
      ".\\Books\\German\\raimund\\Der Diamant des Geisterkînigs.txt\n",
      ".\\Books\\German\\raimund\\Der Verschwender.txt\n",
      ".\\Books\\German\\raimund\\Die gefesselte Phantasie.txt\n",
      ".\\Books\\German\\raimund\\Die unheilbringende Krone.txt\n",
      ".\\Books\\German\\raimund\\Moisasurs Zauberfluch.txt\n",
      ".\\Books\\German\\schiller\\Der Neffe als Onkel.txt\n",
      ".\\Books\\German\\schiller\\Der Parasit, oder die Kunst, sein GlÅck zu machen.txt\n",
      ".\\Books\\German\\schiller\\die braut von messina.txt\n",
      ".\\Books\\German\\schiller\\Die Huldigung der KÅnste.txt\n",
      ".\\Books\\German\\schiller\\Die Jungfrau von Orleans.txt\n",
      ".\\Books\\German\\schiller\\Die Piccolomini.txt\n",
      ".\\Books\\German\\schiller\\Die Verschwîrung des Fiesco zu Genua.txt\n",
      ".\\Books\\German\\schiller\\Kabale und Liebe.txt\n",
      ".\\Books\\German\\schiller\\Turandot, Prinzessin von China.txt\n",
      ".\\Books\\German\\schiller\\Wallensteins Lager.txt\n",
      ".\\Books\\German\\schiller\\Wallensteins Tod.txt\n",
      ".\\Books\\German\\shakespeare\\Der Kaufmann von Venedig.txt\n",
      ".\\Books\\German\\shakespeare\\Ein Sommernachtstraum.txt\n",
      ".\\Books\\German\\shakespeare\\Hamlet.txt\n",
      ".\\Books\\German\\shakespeare\\Macbeth.txt\n",
      ".\\Books\\German\\shakespeare\\Othello.txt\n",
      ".\\Books\\German\\shakespeare\\Richard III.txt\n",
      ".\\Books\\German\\shakespeare\\Romeo und Julia.txt\n",
      ".\\Books\\Portuguese\\branco\\A Filha do Arcediago.txt\n",
      ".\\Books\\Portuguese\\branco\\A Neta do Arcediago.txt\n",
      ".\\Books\\Portuguese\\branco\\A Queda d'um Anjo.txt\n",
      ".\\Books\\Portuguese\\branco\\Agulha em Palheiro.txt\n",
      ".\\Books\\Portuguese\\branco\\Amor de Perdição.txt\n",
      ".\\Books\\Portuguese\\branco\\Amor de Salvação.txt\n",
      ".\\Books\\Portuguese\\branco\\Annos de Prosa.txt\n",
      ".\\Books\\Portuguese\\branco\\Carlota Angela.txt\n",
      ".\\Books\\Portuguese\\branco\\Estrellas Funestas.txt\n",
      ".\\Books\\Portuguese\\branco\\Estrellas Prop°cias.txt\n",
      ".\\Books\\Portuguese\\branco\\Lagrimas Abenáoadas.txt\n",
      ".\\Books\\Portuguese\\branco\\Livro de Consolação.txt\n",
      ".\\Books\\Portuguese\\branco\\O Olho de Vidro.txt\n",
      ".\\Books\\Portuguese\\branco\\O que fazem mulheres.txt\n",
      ".\\Books\\Portuguese\\branco\\O Regicida.txt\n",
      ".\\Books\\Portuguese\\branco\\Scenas Contemporaneas.txt\n",
      ".\\Books\\Portuguese\\dinis\\A Morgadinha dos Cannaviaes.txt\n",
      ".\\Books\\Portuguese\\dinis\\Os fidalgos da Casa Mourisca.txt\n",
      ".\\Books\\Portuguese\\dinis\\Uma fam°lia ingleza.txt\n",
      ".\\Books\\Portuguese\\Queir¢s\\A Cidade e as Serras.txt\n",
      ".\\Books\\Portuguese\\Queir¢s\\A correspondància de Fradique Mendes.txt\n",
      ".\\Books\\Portuguese\\Queir¢s\\A Illustre Casa de Ramires.txt\n",
      ".\\Books\\Portuguese\\Queir¢s\\A Rel°quia.txt\n",
      ".\\Books\\Portuguese\\Queir¢s\\Cartas de Inglaterra.txt\n",
      ".\\Books\\Portuguese\\Queir¢s\\O crime do padre Amaro.txt\n",
      ".\\Books\\Portuguese\\Queir¢s\\O Mandarim.txt\n",
      ".\\Books\\Portuguese\\Queir¢s\\O Primo Bazilio.txt\n",
      ".\\Books\\Portuguese\\Queir¢s\\Os Maias.txt\n",
      ".\\Books\\Portuguese\\shakespeare\\Hamlet.txt\n"
     ]
    }
   ],
   "source": [
    "os.listdir(book_dir)\n",
    "stats=pd.DataFrame(columns=(\"Language\",\"Author\",\"Title\",\"Length\",\"Unique\"))\n",
    "title_num=1\n",
    "for language in os.listdir(book_dir):\n",
    "    for author in os.listdir(book_dir + \"\\\\\" + language):\n",
    "        for title in os.listdir(book_dir + \"\\\\\" +language + \"\\\\\" + author):\n",
    "            inputfile=book_dir + \"\\\\\" +language + \"\\\\\" + author +\"\\\\\"+title\n",
    "            print(inputfile)\n",
    "            text=read_book(inputfile)\n",
    "            (num_unique,counts)=word_stats(count_words(text))\n",
    "            stats.loc[title_num]=language,author.capitalize(),title.replace(\".txt\",\"\"),sum(counts),num_unique\n",
    "            title_num +=1"
   ]
  },
  {
   "cell_type": "code",
   "execution_count": 74,
   "metadata": {},
   "outputs": [
    {
     "data": {
      "text/html": [
       "<div>\n",
       "<style scoped>\n",
       "    .dataframe tbody tr th:only-of-type {\n",
       "        vertical-align: middle;\n",
       "    }\n",
       "\n",
       "    .dataframe tbody tr th {\n",
       "        vertical-align: top;\n",
       "    }\n",
       "\n",
       "    .dataframe thead th {\n",
       "        text-align: right;\n",
       "    }\n",
       "</style>\n",
       "<table border=\"1\" class=\"dataframe\">\n",
       "  <thead>\n",
       "    <tr style=\"text-align: right;\">\n",
       "      <th></th>\n",
       "      <th>Language</th>\n",
       "      <th>Author</th>\n",
       "      <th>Title</th>\n",
       "      <th>Length</th>\n",
       "      <th>Unique</th>\n",
       "    </tr>\n",
       "  </thead>\n",
       "  <tbody>\n",
       "    <tr>\n",
       "      <th>1</th>\n",
       "      <td>English</td>\n",
       "      <td>Shakespeare</td>\n",
       "      <td>A Midsummer Night's Dream</td>\n",
       "      <td>16103</td>\n",
       "      <td>4345</td>\n",
       "    </tr>\n",
       "    <tr>\n",
       "      <th>2</th>\n",
       "      <td>English</td>\n",
       "      <td>Shakespeare</td>\n",
       "      <td>Hamlet</td>\n",
       "      <td>28551</td>\n",
       "      <td>6776</td>\n",
       "    </tr>\n",
       "    <tr>\n",
       "      <th>3</th>\n",
       "      <td>English</td>\n",
       "      <td>Shakespeare</td>\n",
       "      <td>Macbeth</td>\n",
       "      <td>16874</td>\n",
       "      <td>4780</td>\n",
       "    </tr>\n",
       "    <tr>\n",
       "      <th>4</th>\n",
       "      <td>English</td>\n",
       "      <td>Shakespeare</td>\n",
       "      <td>Othello</td>\n",
       "      <td>26590</td>\n",
       "      <td>5898</td>\n",
       "    </tr>\n",
       "    <tr>\n",
       "      <th>5</th>\n",
       "      <td>English</td>\n",
       "      <td>Shakespeare</td>\n",
       "      <td>Richard III</td>\n",
       "      <td>48315</td>\n",
       "      <td>5541</td>\n",
       "    </tr>\n",
       "  </tbody>\n",
       "</table>\n",
       "</div>"
      ],
      "text/plain": [
       "  Language       Author                      Title Length Unique\n",
       "1  English  Shakespeare  A Midsummer Night's Dream  16103   4345\n",
       "2  English  Shakespeare                     Hamlet  28551   6776\n",
       "3  English  Shakespeare                    Macbeth  16874   4780\n",
       "4  English  Shakespeare                    Othello  26590   5898\n",
       "5  English  Shakespeare                Richard III  48315   5541"
      ]
     },
     "execution_count": 74,
     "metadata": {},
     "output_type": "execute_result"
    }
   ],
   "source": [
    "stats.head()"
   ]
  },
  {
   "cell_type": "code",
   "execution_count": 65,
   "metadata": {},
   "outputs": [],
   "source": [
    "import pandas as pd\n",
    "table=pd.DataFrame(columns=(\"name\",\"age\"))\n",
    "table.loc[1]=\"James\",22\n",
    "table.loc[2]=\"suddu\",24"
   ]
  },
  {
   "cell_type": "code",
   "execution_count": 83,
   "metadata": {},
   "outputs": [
    {
     "data": {
      "text/plain": [
       "1       16103\n",
       "2       28551\n",
       "3       16874\n",
       "4       26590\n",
       "5       48315\n",
       "        ...  \n",
       "98     128630\n",
       "99      21440\n",
       "100    107303\n",
       "101    195771\n",
       "102     30567\n",
       "Name: Length, Length: 102, dtype: object"
      ]
     },
     "execution_count": 83,
     "metadata": {},
     "output_type": "execute_result"
    }
   ],
   "source": [
    "stats.Length"
   ]
  },
  {
   "cell_type": "code",
   "execution_count": 93,
   "metadata": {},
   "outputs": [
    {
     "data": {
      "text/plain": [
       "[<matplotlib.lines.Line2D at 0x1dc5bd8fb50>]"
      ]
     },
     "execution_count": 93,
     "metadata": {},
     "output_type": "execute_result"
    },
    {
     "data": {
      "image/png": "[encoded data removed]",
      "text/plain": [
       "<Figure size 432x288 with 1 Axes>"
      ]
     },
     "metadata": {
      "needs_background": "light"
     },
     "output_type": "display_data"
    }
   ],
   "source": [
    "import matplotlib.pyplot as plt\n",
    "plt.plot(stats.Length,stats.Unique,\"bo\")\n",
    "plt.plot(stats.Length,stats.Unique,\"ro\")"
   ]
  },
  {
   "cell_type": "code",
   "execution_count": 107,
   "metadata": {},
   "outputs": [
    {
     "data": {
      "image/png": "[encoded data removed]",
      "text/plain": [
       "<Figure size 720x720 with 1 Axes>"
      ]
     },
     "metadata": {
      "needs_background": "light"
     },
     "output_type": "display_data"
    }
   ],
   "source": [
    "plt.figure(figsize=(10,10))\n",
    "subset=stats[stats.Language==\"English\"]\n",
    "plt.loglog(subset.Length,subset.Unique,\"o\",label=\"English\",color=\"crimson\")\n",
    "\n",
    "subset=stats[stats.Language==\"French\"]\n",
    "plt.loglog(subset.Length,subset.Unique,\"o\",label=\"French\",color=\"forestgreen\")\n",
    "\n",
    "subset=stats[stats.Language==\"German\"]\n",
    "plt.loglog(subset.Length,subset.Unique,\"o\",label=\"German\",color=\"orange\")\n",
    "\n",
    "subset=stats[stats.Language==\"Portuguese\"]\n",
    "plt.loglog(subset.Length,subset.Unique,\"o\",label=\"Portuguese\",color=\"blueviolet\")\n",
    "\n",
    "plt.legend()\n",
    "plt.xlabel(\"Book Length\")\n",
    "plt.ylabel(\"Unique Words\")\n",
    "plt.savefig(\"language_processing.pdf\")"
   ]
  },
  {
   "cell_type": "code",
   "execution_count": 112,
   "metadata": {},
   "outputs": [
    {
     "ename": "SyntaxError",
     "evalue": "invalid syntax (<ipython-input-112-8a4c7fe51e09>, line 1)",
     "output_type": "error",
     "traceback": [
      "\u001b[1;36m  File \u001b[1;32m\"<ipython-input-112-8a4c7fe51e09>\"\u001b[1;36m, line \u001b[1;32m1\u001b[0m\n\u001b[1;33m    stats->Length\u001b[0m\n\u001b[1;37m         ^\u001b[0m\n\u001b[1;31mSyntaxError\u001b[0m\u001b[1;31m:\u001b[0m invalid syntax\n"
     ]
    }
   ],
   "source": [
    "stats->Length"
   ]
  },
  {
   "cell_type": "code",
   "execution_count": 113,
   "metadata": {},
   "outputs": [
    {
     "ename": "NameError",
     "evalue": "name 'book_titles' is not defined",
     "output_type": "error",
     "traceback": [
      "\u001b[1;31m---------------------------------------------------------------------------\u001b[0m",
      "\u001b[1;31mNameError\u001b[0m                                 Traceback (most recent call last)",
      "\u001b[1;32m<ipython-input-113-a1a6203c954c>\u001b[0m in \u001b[0;36m<module>\u001b[1;34m\u001b[0m\n\u001b[0;32m      6\u001b[0m \u001b[0mtitle_num\u001b[0m \u001b[1;33m=\u001b[0m \u001b[1;36m1\u001b[0m\u001b[1;33m\u001b[0m\u001b[1;33m\u001b[0m\u001b[0m\n\u001b[0;32m      7\u001b[0m \u001b[1;33m\u001b[0m\u001b[0m\n\u001b[1;32m----> 8\u001b[1;33m \u001b[1;32mfor\u001b[0m \u001b[0mlanguage\u001b[0m \u001b[1;32min\u001b[0m \u001b[0mbook_titles\u001b[0m\u001b[1;33m:\u001b[0m\u001b[1;33m\u001b[0m\u001b[1;33m\u001b[0m\u001b[0m\n\u001b[0m\u001b[0;32m      9\u001b[0m     \u001b[1;32mfor\u001b[0m \u001b[0mauthor\u001b[0m \u001b[1;32min\u001b[0m \u001b[0mbook_titles\u001b[0m\u001b[1;33m[\u001b[0m\u001b[0mlanguage\u001b[0m\u001b[1;33m]\u001b[0m\u001b[1;33m:\u001b[0m\u001b[1;33m\u001b[0m\u001b[1;33m\u001b[0m\u001b[0m\n\u001b[0;32m     10\u001b[0m         \u001b[1;32mfor\u001b[0m \u001b[0mtitle\u001b[0m \u001b[1;32min\u001b[0m \u001b[0mbook_titles\u001b[0m\u001b[1;33m[\u001b[0m\u001b[0mlanguage\u001b[0m\u001b[1;33m]\u001b[0m\u001b[1;33m[\u001b[0m\u001b[0mauthor\u001b[0m\u001b[1;33m]\u001b[0m\u001b[1;33m:\u001b[0m\u001b[1;33m\u001b[0m\u001b[1;33m\u001b[0m\u001b[0m\n",
      "\u001b[1;31mNameError\u001b[0m: name 'book_titles' is not defined"
     ]
    }
   ],
   "source": [
    "import pandas as pd\n",
    "\n",
    "hamlets = pd.DataFrame(columns=('language','distribution'))\n",
    "\n",
    "book_dir = \"Books\"\n",
    "title_num = 1\n",
    "\n",
    "for language in book_titles:\n",
    "    for author in book_titles[language]:\n",
    "        for title in book_titles[language][author]:\n",
    "            if title == \"Hamlet\":\n",
    "                inputfile = data_filepath+\"Books/\"+language+\"/\"+author+\"/\"+title+\".txt\"\n",
    "                text = read_book(inputfile)\n",
    "                distribution = word_count_distribution(text) \n",
    "                hamlets.loc[title_num] = language, distribution\n",
    "                title_num += 1"
   ]
  },
  {
   "cell_type": "code",
   "execution_count": null,
   "metadata": {},
   "outputs": [],
   "source": []
  }
 ],
 "metadata": {
  "kernelspec": {
   "display_name": "Python 3",
   "language": "python",
   "name": "python3"
  },
  "language_info": {
   "codemirror_mode": {
    "name": "ipython",
    "version": 3
   },
   "file_extension": ".py",
   "mimetype": "text/x-python",
   "name": "python",
   "nbconvert_exporter": "python",
   "pygments_lexer": "ipython3",
   "version": "3.8.5"
  }
 },
 "nbformat": 4,
 "nbformat_minor": 4
}

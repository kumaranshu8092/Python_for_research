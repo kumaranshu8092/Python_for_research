{
 "cells": [
  {
   "cell_type": "code",
   "execution_count": 1,
   "metadata": {},
   "outputs": [],
   "source": [
    "book_titles = {\n",
    "\t\t'English': {\n",
    "\t\t\t\t'shakespeare': (\n",
    "\t\t\t\t\t\t\"A+Midsummer+Night's+Dream\", 'Hamlet', \n",
    "\t\t\t\t\t\t'Macbeth', 'Othello', 'Richard+III', \n",
    "\t\t\t\t\t\t'Romeo+and+Juliet', 'The+Merchant+of+Venice'\n",
    "\t\t\t\t\t\t)\n",
    "\t\t\t\t},\n",
    "\t\t'French': {\n",
    "\t\t\t\t'chevalier': (\n",
    "\t\t\t\t\t\t\"L'enfer+et+le+paradis+de+l'autre+monde\",\n",
    "\t\t\t\t\t\t\"L'i%CC%82le+de+sable\", 'La+capitaine',\n",
    "\t\t\t\t\t\t'La+fille+des+indiens+rouges', 'La+fille+du+pirate',\n",
    "\t\t\t\t\t\t'Le+chasseur+noir', 'Les+derniers+Iroquois'\n",
    "\t\t\t\t\t\t)\n",
    "\t\t\t\t},\n",
    "\t\t'German': {\n",
    "\t\t\t\t'shakespeare': (\n",
    "\t\t\t\t\t\t'Der+Kaufmann+von+Venedig', 'Ein+Sommernachtstraum',\n",
    "\t\t\t\t\t\t'Hamlet', 'Macbeth', 'Othello', 'Richard+III',\n",
    "\t\t\t\t\t\t'Romeo+und+Julia'\n",
    "\t\t\t\t\t\t)\n",
    "\t\t\t\t},\n",
    "\t\t'Portuguese': {'shakespeare': ('Hamlet',)}\n",
    "\t\t}\n",
    "\n",
    "######\n",
    "\n",
    "def count_words_fast(text):\n",
    "\t\"\"\"\n",
    "\tCount the number of times each word occurs in text (str). Return\n",
    "\tdictionnary where keys are unique words and values are word counts.\n",
    "\tSkip punctuation.\n",
    "\t\"\"\"\n",
    "\ttext = text.lower()\n",
    "\tskips = ['.', ',', ';',':',\"'\", '\"'] # remove all punctuations\n",
    "\t# punctuations can lead to misleading counting...\n",
    "\t\n",
    "\tfrom collections import Counter\n",
    "\n",
    "\tfor ch in skips:\n",
    "\t\ttext = text.replace(ch, \"\")\n",
    "\n",
    "\tword_counts = Counter(text.split(\" \"))\n",
    "\t\n",
    "\treturn word_counts # Counter object ~ dictionnary\n",
    "\n",
    "\n",
    "def read_book(title_path):\n",
    "\t\"\"\"\n",
    "\tRead a book and retunr it as a string.\n",
    "\t\"\"\"\n",
    "\t\n",
    "\twith open(title_path, \"r\", encoding=\"utf8\") as current_file:\n",
    "\t\ttext = current_file.read()\n",
    "\t\ttext = text.replace('\\n','').replace('\\r', '')\n",
    "\treturn text\n",
    "\n",
    "\n",
    "def word_stats(word_counts):\n",
    "\t\"\"\"\n",
    "\tReturn number of unique words and word frequencies.\n",
    "\t\"\"\"\n",
    "\t\n",
    "\tnum_unique = len(word_counts) # number of unique words in the dict\n",
    "\tcounts = word_counts.values() # list of word counts\n",
    "\treturn (num_unique, counts)"
   ]
  },
  {
   "cell_type": "code",
   "execution_count": 2,
   "metadata": {},
   "outputs": [
    {
     "name": "stdout",
     "output_type": "stream",
     "text": [
      "1       English\n",
      "2        German\n",
      "3    Portuguese\n",
      "Name: language, dtype: object\n"
     ]
    }
   ],
   "source": [
    "\"\"\"\n",
    "Define hamlets as a pandas dataframe with columns language and text.\n",
    "Add an if statement to check if the title is equal to 'Hamlet'.\n",
    "Store the results from read_book(inputfile) to text.\n",
    "Consider: How many translations are there? Which languages are they \n",
    "translated into?\n",
    "\"\"\"\n",
    "import pandas as pd\n",
    "import numpy as np\n",
    "\n",
    "hamlets = pd.DataFrame({'language': [], 'text' :[]})\n",
    "# or hamlets=pd.DataFrame(columns=['language', 'text'])\n",
    "\n",
    "data_filepath = '.'\n",
    "book_dir = \"\\\\books\"\n",
    "title_num = 1\n",
    "\n",
    "for language in book_titles:\n",
    "    for author in book_titles[language]:\n",
    "        for title in book_titles[language][author]:\n",
    "            if title == 'Hamlet':\n",
    "                input_file = data_filepath+book_dir+\"\\\\\"+ language+\"\\\\\"+author+\"\\\\\"+title+\".txt\"\n",
    "\n",
    "                text = read_book(input_file)\n",
    "                \n",
    "                hamlets.loc[title_num] = language, text\n",
    "                title_num += 1\n",
    "\n",
    "print(hamlets['language'])\n"
   ]
  },
  {
   "cell_type": "code",
   "execution_count": 4,
   "metadata": {},
   "outputs": [
    {
     "data": {
      "text/plain": [
       "['English', 'French', 'German', 'Portuguese']"
      ]
     },
     "execution_count": 4,
     "metadata": {},
     "output_type": "execute_result"
    }
   ],
   "source": [
    "import os\n",
    "book_dir=\".\\Books\"\n",
    "os.listdir(book_dir)"
   ]
  },
  {
   "cell_type": "code",
   "execution_count": null,
   "metadata": {},
   "outputs": [],
   "source": []
  }
 ],
 "metadata": {
  "kernelspec": {
   "display_name": "Python 3",
   "language": "python",
   "name": "python3"
  },
  "language_info": {
   "codemirror_mode": {
    "name": "ipython",
    "version": 3
   },
   "file_extension": ".py",
   "mimetype": "text/x-python",
   "name": "python",
   "nbconvert_exporter": "python",
   "pygments_lexer": "ipython3",
   "version": "3.8.5"
  }
 },
 "nbformat": 4,
 "nbformat_minor": 4
}

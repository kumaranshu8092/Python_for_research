{
 "cells": [
  {
   "cell_type": "code",
   "execution_count": 1,
   "metadata": {},
   "outputs": [
    {
     "name": "stderr",
     "output_type": "stream",
     "text": [
      "C:\\ProgramData\\Anaconda3\\lib\\site-packages\\sklearn\\utils\\deprecation.py:143: FutureWarning: The sklearn.cluster.bicluster module is  deprecated in version 0.22 and will be removed in version 0.24. The corresponding classes / functions should instead be imported from sklearn.cluster. Anything that cannot be imported from sklearn.cluster is now part of the private API.\n",
      "  warnings.warn(message, FutureWarning)\n"
     ]
    }
   ],
   "source": [
    "from sklearn.cluster.bicluster import SpectralCoclustering\n",
    "import numpy as np, pandas as pd\n",
    "\n",
    "whisky = pd.read_csv(\"https://courses.edx.org/asset-v1:HarvardX+PH526x+2T2019+type@asset+block@whiskies.csv\", index_col=0)\n",
    "correlations = pd.DataFrame.corr(whisky.iloc[:,2:14].transpose())\n",
    "correlations = np.array(correlations)"
   ]
  },
  {
   "cell_type": "code",
   "execution_count": 9,
   "metadata": {},
   "outputs": [
    {
     "name": "stdout",
     "output_type": "stream",
     "text": [
      "[(1, 1), (1, 2), (1, 3), (1, 4), (1, 5), (2, 1), (2, 2), (2, 3), (2, 4), (2, 5), (3, 1), (3, 2), (3, 3), (3, 4), (3, 5), (4, 1), (4, 2), (4, 3), (4, 4), (4, 5), (5, 1), (5, 2), (5, 3), (5, 4), (5, 5)]\n"
     ]
    }
   ],
   "source": [
    "# Exercise 1\n",
    "#-----------\n",
    "\n",
    "#Here we provide a basic demonstration of an interactive grid plot using Bokeh. \n",
    "#Execute the following code and follow along with the comments. We will later \n",
    "#adapt this code to plot the correlations among distillery flavor profiles as \n",
    "#well as plot a geographical map of distilleries colored by region and flavor \n",
    "#profile.\n",
    "\n",
    "#Make sure to study this code now, as we will edit similar code in the \n",
    "#exercises that follow.\n",
    "\n",
    "#Once you have plotted the code, hover, click, and drag your cursor on the plot \n",
    "#to interact with it. Additionally, explore the icons in the top-right corner \n",
    "#of the plot for more interactive options!\n",
    "\n",
    "# First, we import a tool to allow text to pop up on a plot when the cursor\n",
    "# hovers over it.  Also, we import a data structure used to store arguments\n",
    "# of what to plot in Bokeh.  Finally, we will use numpy for this section as well!\n",
    "\n",
    "from bokeh.models import HoverTool, ColumnDataSource\n",
    "from bokeh.plotting import figure, output_file, save\n",
    "import numpy as np\n",
    "\n",
    "# Let's plot a simple 5x5 grid of squares, alternating in color as red and blue.\n",
    "\n",
    "plot_values = [1,2,3,4,5]\n",
    "plot_colors = [\"red\", \"blue\"]\n",
    "\n",
    "# How do we tell Bokeh to plot each point in a grid?  Let's use a function that\n",
    "# finds each combination of values from 1-5.\n",
    "from itertools import product\n",
    "\n",
    "grid = list(product(plot_values, plot_values))\n",
    "print(grid)"
   ]
  },
  {
   "cell_type": "code",
   "execution_count": 28,
   "metadata": {},
   "outputs": [
    {
     "name": "stdout",
     "output_type": "stream",
     "text": [
      "{'Speyside': 'red', 'Highlands': 'orange', 'Lowlands': 'green', 'Islands': 'blue', 'Campbelltown': 'purple', 'Islay': 'gray'}\n"
     ]
    }
   ],
   "source": [
    "# Exercise 2\n",
    "#-----------\n",
    "\n",
    "\n",
    "#Let's create the names and colors we will use to plot the correlation matrix \n",
    "#of whisky flavors. Later, we will also use these colors to plot each distillery \n",
    "#geographically. Create a dictionary region_colors with regions as keys \n",
    "#and cluster_colors as values.\n",
    "\n",
    "cluster_colors = [\"red\", \"orange\", \"green\", \"blue\", \"purple\", \"gray\"]\n",
    "regions = [\"Speyside\", \"Highlands\", \"Lowlands\", \"Islands\", \"Campbelltown\", \"Islay\"]\n",
    "\n",
    "region_colors = dict(zip(regions,cluster_colors))\n",
    "\n",
    "#Print region_colors.\n",
    "\n",
    "print(region_colors)"
   ]
  },
  {
   "cell_type": "code",
   "execution_count": 29,
   "metadata": {},
   "outputs": [],
   "source": [
    "# Exercise 3\n",
    "#-----------\n",
    "\n",
    "#correlations is a two-dimensional np.array with both rows and columns \n",
    "#corresponding to distilleries and elements corresponding to the flavor \n",
    "#correlation of each row/column pair. Let's define a list correlation_colors, \n",
    "#with string values corresponding to colors to be used to plot each distillery \n",
    "#pair. Low correlations among distillery pairs will be white, high correlations \n",
    "#will be a distinct group color if the distilleries from the same group, and \n",
    "#gray otherwise. Edit the code to define correlation_colors for each distillery \n",
    "#pair to have input 'white' if their correlation is less than 0.7.\n",
    "\n",
    "#whisky.Group is a pandas dataframe column consisting of distillery group \n",
    "#memberships. For distillery pairs with correlation greater than 0.7, if they \n",
    "#share the same whisky group, use the corresponding color from cluster_colors. \n",
    "#Otherwise, the correlation_colors value for that distillery pair will be \n",
    "#defined as 'lightgray'.\n",
    "\n",
    "distilleries = list(whisky.Distillery)\n",
    "correlation_colors = []\n",
    "for i in range(len(distilleries)):\n",
    "    for j in range(len(distilleries)):\n",
    "        if correlations[i,j] < .70:                    # if low correlation,\n",
    "            correlation_colors.append('white')         # just use white.\n",
    "        else:                                          # otherwise,\n",
    "            if whisky.Group[i] == whisky.Group[j]:     # if the groups match,\n",
    "                correlation_colors.append(cluster_colors[whisky.Group[i]]) # color them by their mutual group.\n",
    "            else:                                      # otherwise\n",
    "                correlation_colors.append('lightgray') # color them lightgray.\n",
    "\n",
    "#------------------------------------------------------------------------------\n"
   ]
  },
  {
   "cell_type": "code",
   "execution_count": 30,
   "metadata": {},
   "outputs": [],
   "source": [
    "# Exercise 4\n",
    "#-----------\n",
    "\n",
    "#We will edit the following code to make an interactive grid of the correlations \n",
    "#among distillery pairs using correlation_colors and correlations. \n",
    "#correlation_colors is a list of each distillery pair. To convert correlations \n",
    "#from a np.array to a list, we will use the flatten method. Define the color \n",
    "#of each rectangle in the grid using to correlation_colors.\n",
    "\n",
    "#Define the alpha (transparency) values using correlations.flatten().\n",
    "\n",
    "#Define correlations and using correlations.flatten(). When the cursor hovers \n",
    "#over a rectangle, this will output the distillery pair, show both distilleries \n",
    "#as well as their correlation coefficient.\n",
    "\n",
    "source = ColumnDataSource(\n",
    "    data = {\n",
    "        \"x\": np.repeat(distilleries,len(distilleries)),\n",
    "        \"y\": list(distilleries)*len(distilleries),\n",
    "        \"colors\": correlation_colors,\n",
    "        \"correlations\": correlations.flatten(),\n",
    "    }\n",
    ")\n",
    "\n",
    "output_file(\"Whisky Correlations.html\", title=\"Whisky Correlations\")\n",
    "fig = figure(title=\"Whisky Correlations\",\n",
    "    x_axis_location=\"above\", tools=\"hover,save\",\n",
    "    x_range=list(reversed(distilleries)), y_range=distilleries)\n",
    "fig.grid.grid_line_color = None\n",
    "fig.axis.axis_line_color = None\n",
    "fig.axis.major_tick_line_color = None\n",
    "fig.axis.major_label_text_font_size = \"5pt\"\n",
    "fig.xaxis.major_label_orientation = np.pi / 3\n",
    "\n",
    "fig.rect('x', 'y', .9, .9, source=source,\n",
    "     color='colors', alpha='correlations')\n",
    "hover = fig.select(dict(type=HoverTool))\n",
    "hover.tooltips = {\n",
    "    \"Whiskies\": \"@x, @y\",\n",
    "    \"Correlation\": \"@correlations\",\n",
    "}\n",
    "show(fig)"
   ]
  },
  {
   "cell_type": "code",
   "execution_count": 24,
   "metadata": {},
   "outputs": [],
   "source": [
    "#EXERICE 5\n",
    "\"\"\"In this exercise, we give a demonstration of plotting geographic points.\n",
    "Run the following code, to be adapted in the next section. Compare \n",
    "this code to that used in plotting the distillery correlations.\n",
    "\"\"\"\n",
    "\n",
    "points = [(0,0), (1,2), (3,1)]\n",
    "xs, ys = zip(*points)\n",
    "colors = [\"red\", \"blue\", \"green\"]\n",
    "\n",
    "output_file(\"Spatial_Example.html\", title=\"Regional Example\")\n",
    "location_source = ColumnDataSource(\n",
    "    data={\n",
    "        \"x\": xs,\n",
    "        \"y\": ys,\n",
    "        \"colors\": colors,\n",
    "    }\n",
    ")\n",
    "\n",
    "fig = figure(title = \"Title\",\n",
    "    x_axis_location = \"above\", tools=\"hover, save\")\n",
    "fig.plot_width  = 300\n",
    "fig.plot_height = 380\n",
    "fig.circle(\"x\", \"y\", size=10, source=location_source,\n",
    "     color='colors', line_color = None)\n",
    "\n",
    "hover = fig.select(dict(type = HoverTool))\n",
    "hover.tooltips = {\n",
    "    \"Location\": \"(@x, @y)\"\n",
    "}\n",
    "show(fig)\n"
   ]
  },
  {
   "cell_type": "code",
   "execution_count": 36,
   "metadata": {},
   "outputs": [],
   "source": [
    "#EXERCICE 6\n",
    "\"\"\"In this exercise, we will define a function location_plot(title, colors) \n",
    "that takes a string title and a list of colors corresponding to each \n",
    "distillery and outputs a Bokeh plot of each distillery by latitude and \n",
    "longitude. It will also display the distillery name, latitude, and \n",
    "longitude as hover text.\n",
    "Adapt the given code beginning with the first comment and ending with \n",
    "show(fig) to create the function location_plot(), as described above.\n",
    "Region is a column of in the pandas dataframe whisky, containing the \n",
    "regional group membership for each distillery. Make a list consisting \n",
    "of the value of region_colors for each distillery, and store this list \n",
    "as region_cols. Use location_plot to plot each distillery, colored by \n",
    "its regional grouping.\n",
    "\"\"\"\n",
    "\n",
    "def location_plot(title, colors):\n",
    "\n",
    "    output_file(title+\".html\")\n",
    "    location_source = ColumnDataSource(\n",
    "        data={\n",
    "            \"x\": whisky[\" Latitude\"],\n",
    "            \"y\": whisky[\" Longitude\"],\n",
    "            \"colors\": colors,\n",
    "            \"regions\": whisky.Region,\n",
    "            \"distilleries\": whisky.Distillery\n",
    "        }\n",
    "    )\n",
    "    \n",
    "    fig = figure(title = title,\n",
    "        x_axis_location = \"above\", tools=\"hover, save\")\n",
    "    fig.plot_width  = 400\n",
    "    fig.plot_height = 500\n",
    "    fig.circle(\"x\", \"y\", size=9, source=location_source,\n",
    "         color='colors', line_color = None)\n",
    "    fig.xaxis.major_label_orientation = np.pi / 3\n",
    "    hover = fig.select(dict(type = HoverTool))\n",
    "    hover.tooltips = {\n",
    "        \"Distillery\": \"@distilleries\",\n",
    "        \"Location\": \"(@x, @y)\"\n",
    "    }\n",
    "    show(fig)\n",
    "\n",
    "region_cols = [region_colors[i] for i in list(whisky[\"Region\"])]\n",
    "location_plot(\"Whisky Locations and Regions\", region_cols)\n"
   ]
  },
  {
   "cell_type": "code",
   "execution_count": 37,
   "metadata": {},
   "outputs": [
    {
     "data": {
      "text/plain": [
       "'\\nWe see that there is not very much overlap between the regional classifications \\nand the coclustering classifications. This means that regional classifications \\nare not a very good guide to Scotch whisky flavor profiles.\\n'"
      ]
     },
     "execution_count": 37,
     "metadata": {},
     "output_type": "execute_result"
    }
   ],
   "source": [
    "# Exercise 7\n",
    "#-----------\n",
    "\n",
    "#Use list comprehensions to create the list region_cols consisting of the color\n",
    "# in region_colors that corresponds to each whisky in whisky.Region.\n",
    "\n",
    "region_cols = [region_colors[i] for i in whisky['Region']]\n",
    "\n",
    "#Similarly, create a list classification_cols consisting of the color in \n",
    "#cluster_colors that corresponds to each cluster membership in whisky.Group.\n",
    "\n",
    "classification_cols = [cluster_colors[j] for j in whisky['Group']]\n",
    "\n",
    "#location_plot remains stored from the previous exercise. Use it to create two \n",
    "#interactive plots of distilleries, one colored by defined region called \n",
    "#region_cols and the other with colors defined by coclustering designation \n",
    "#called classification_cols. How well do the coclustering groupings match the \n",
    "#regional groupings?\n",
    "\n",
    "location_plot(\"Whisky Locations and Regions\", region_cols)\n",
    "location_plot(\"Whisky Locations and Groups\", classification_cols)\n",
    "\n",
    "\n",
    "'''\n",
    "We see that there is not very much overlap between the regional classifications \n",
    "and the coclustering classifications. This means that regional classifications \n",
    "are not a very good guide to Scotch whisky flavor profiles.\n",
    "'''\n",
    "#------------------------------------------------------------------------------"
   ]
  },
  {
   "cell_type": "code",
   "execution_count": 39,
   "metadata": {},
   "outputs": [
    {
     "data": {
      "text/plain": [
       "0     0\n",
       "1     0\n",
       "2     0\n",
       "3     0\n",
       "4     0\n",
       "     ..\n",
       "81    5\n",
       "82    5\n",
       "83    5\n",
       "84    5\n",
       "85    5\n",
       "Name: Group, Length: 86, dtype: int64"
      ]
     },
     "execution_count": 39,
     "metadata": {},
     "output_type": "execute_result"
    }
   ],
   "source": [
    "whisky.Group"
   ]
  },
  {
   "cell_type": "code",
   "execution_count": null,
   "metadata": {},
   "outputs": [],
   "source": []
  }
 ],
 "metadata": {
  "kernelspec": {
   "display_name": "Python 3",
   "language": "python",
   "name": "python3"
  },
  "language_info": {
   "codemirror_mode": {
    "name": "ipython",
    "version": 3
   },
   "file_extension": ".py",
   "mimetype": "text/x-python",
   "name": "python",
   "nbconvert_exporter": "python",
   "pygments_lexer": "ipython3",
   "version": "3.8.5"
  }
 },
 "nbformat": 4,
 "nbformat_minor": 4
}
